{
 "cells": [
  {
   "cell_type": "markdown",
   "metadata": {},
   "source": [
    "FFT for 1D img"
   ]
  },
  {
   "cell_type": "code",
   "execution_count": 54,
   "metadata": {},
   "outputs": [],
   "source": [
    "import numpy as np\n",
    "import cv2\n",
    "import array\n",
    "from matplotlib import pyplot as plt"
   ]
  },
  {
   "cell_type": "code",
   "execution_count": 59,
   "metadata": {},
   "outputs": [],
   "source": [
    "def DFT(img):\n",
    "    dft = []\n",
    "    N = img.shape[0]\n",
    "    for k in range(0, N):\n",
    "        sum = 0\n",
    "        for n in range(0, N):\n",
    "            sum += img[n]*(np.exp((-2j)*np.pi*k*n/N))\n",
    "            \n",
    "        dft.append(sum)\n",
    "    return dft\n",
    "\n",
    "def FFT(img):\n",
    "    M = img.shape[0]\n",
    "    odd = []\n",
    "    even = []\n",
    "    G = []\n",
    "    H = []\n",
    "    if M == 1:\n",
    "        return(DFT(img))\n",
    "    else:\n",
    "        # divide the img in 2, even and odd indices\n",
    "        for i in range(M):\n",
    "            if i%2==0:\n",
    "                even.append(img[i])\n",
    "            else:\n",
    "                odd.append(img[i])\n",
    "        # copy() -> creates copy of exisiting list\n",
    "        G = (DFT(np.array(even)))\n",
    "        H = (DFT(np.array(odd)))\n",
    "        \n",
    "        F1 = []\n",
    "        for u in range(0, int(M/2)):\n",
    "            temp1 = G[u] + np.multiply(np.exp(-2j*np.pi*u/M), H[u])\n",
    "            F1.append(temp1)\n",
    "        for u in range(int(M/2), M):\n",
    "            temp2 = G[u-int(M/2)] - np.multiply(np.exp(-2j*np.pi*(u-int(M/2))/M), H[u-int(M/2)])\n",
    "            F1.append(temp2)\n",
    "            return(F1)"
   ]
  },
  {
   "cell_type": "code",
   "execution_count": 62,
   "metadata": {},
   "outputs": [],
   "source": [
    "def IFFT(img):\n",
    "    # conj -> complex conjugate\n",
    "    # IFFT = 1/N conj(FFT(conj(X)))\n",
    "    N = img.shape[0]\n",
    "    \n",
    "    ifft = (1/N * np.conj(FFT(np.conj(img))))\n",
    "    \n",
    "    return ifft"
   ]
  },
  {
   "cell_type": "code",
   "execution_count": 61,
   "metadata": {},
   "outputs": [
    {
     "name": "stdout",
     "output_type": "stream",
     "text": [
      "In-built:  [ 93.         +0.j          -4.34314575+33.38477631j\n",
      " -15.        +16.j         -15.65685425 +3.38477631j\n",
      " -15.         +0.j         -15.65685425 -3.38477631j\n",
      " -15.        -16.j          -4.34314575-33.38477631j]\n",
      "User-defined:  [(93+0j), (-4.3431457505076265+33.38477631085024j), (-15.000000000000009+15.999999999999995j), (-15.656854249492385+3.384776310850228j), (-15+0j)]\n"
     ]
    }
   ],
   "source": [
    "img = np.array([1,5,6,9,11,14,21,26])\n",
    "\n",
    "#np.fft.rfft -> Compute the one-dimensional discrete Fourier Transform for real input\n",
    "print(\"In-built: \", np.fft.fft(img))\n",
    "#User defined FFT function\n",
    "print(\"User-defined: \", FFT(img))"
   ]
  },
  {
   "cell_type": "markdown",
   "metadata": {},
   "source": [
    "FFT of Image (2D signal) using FFT of 1D signal"
   ]
  },
  {
   "cell_type": "code",
   "execution_count": 63,
   "metadata": {},
   "outputs": [],
   "source": [
    "imgLena = cv2.imread('IMG_1114.jpg', 0)\n",
    "imgDog = cv2.imread('IMG_1115.jpg', 0)\n",
    "\n",
    "imgLena = cv2.resize(imgLena, (256, 256))\n",
    "imgDog = cv2.resize(imgDog, (256, 256))"
   ]
  },
  {
   "cell_type": "code",
   "execution_count": 64,
   "metadata": {},
   "outputs": [],
   "source": [
    "def FFT_2D(img):\n",
    "    row=[]\n",
    "    col=[]\n",
    "    \n",
    "    # FFT over the rows of the image (Real to Complex)\n",
    "    for x in img:\n",
    "        row.append(FFT(x))\n",
    "    \n",
    "    result2 = np.array(row)\n",
    "    \n",
    "    # .T gives the transpose of the numpy array\n",
    "    # FFT of columns (Complex to Complex)\n",
    "    for y in result2.T:\n",
    "        col.append(FFT(y))\n",
    "    \n",
    "    result3 = np.array(col)\n",
    "    \n",
    "    return result3.T"
   ]
  },
  {
   "cell_type": "code",
   "execution_count": 65,
   "metadata": {},
   "outputs": [],
   "source": [
    "def IFFT_2D(img):\n",
    "    row=[]\n",
    "    col=[]\n",
    "    \n",
    "    # IFFT over the rows of the image (Real to Complex)\n",
    "    for x in img:\n",
    "        row.append(IFFT(x))\n",
    "    \n",
    "    result2 = np.array(row)\n",
    "    \n",
    "    # .T gives the transpose of the numpy array\n",
    "    # IFFT of columns (Complex to Complex)\n",
    "    for y in result2.T:\n",
    "        col.append(IFFT(y))\n",
    "    \n",
    "    result3 = np.array(col)\n",
    "    \n",
    "    return result3.T"
   ]
  },
  {
   "cell_type": "code",
   "execution_count": 66,
   "metadata": {},
   "outputs": [
    {
     "name": "stdout",
     "output_type": "stream",
     "text": [
      "In-built:  [[ 8.13917100e+06     +0.j         -1.17454310e+05+597532.06826899j\n",
      "   3.87426539e+05-279160.48419492j ... -6.20787622e+04-157652.48794667j\n",
      "   3.87426539e+05+279160.48419492j -1.17454310e+05-597532.06826899j]\n",
      " [-5.52596477e+03-306146.22774579j -4.01709610e+05+393540.31695673j\n",
      "  -2.76931407e+05 +14565.69593383j ...  1.65416053e+05+201358.18739761j\n",
      "  -8.80806368e+04+112366.96639062j  8.82538138e+03+236507.09701796j]\n",
      " [-1.11737220e+05 -42316.27727337j -6.81357047e+04 -34491.62738675j\n",
      "   1.69600992e+05-109764.55339941j ...  8.95020192e+04+231320.28735473j\n",
      "  -1.80784518e+05 -43960.42285952j  2.05377767e+05 -14585.69512515j]\n",
      " ...\n",
      " [ 1.28130459e+05 -55891.90697105j  1.85993185e+05+174772.41925428j\n",
      "  -1.31849846e+05 -49428.01053912j ...  2.49145631e+05 +19832.85403212j\n",
      "   2.83056850e+04-170370.41366185j -1.03393312e+04+151213.38302532j]\n",
      " [-1.11737220e+05 +42316.27727337j  2.05377767e+05 +14585.69512515j\n",
      "  -1.80784518e+05 +43960.42285952j ... -1.34346059e+05-184959.11136413j\n",
      "   1.69600992e+05+109764.55339941j -6.81357047e+04 +34491.62738675j]\n",
      " [-5.52596477e+03+306146.22774579j  8.82538138e+03-236507.09701796j\n",
      "  -8.80806368e+04-112366.96639062j ... -1.18144853e+05+478060.12896753j\n",
      "  -2.76931407e+05 -14565.69593383j -4.01709610e+05-393540.31695673j]]\n",
      "User-defined:  [[ 8.13917100e+06+0.00000000e+00j -1.17454310e+05+5.97532068e+05j\n",
      "   3.87426539e+05-2.79160484e+05j ... -2.18987560e+03-1.41348592e+03j\n",
      "  -5.22446050e+03+1.03509424e+03j -5.58300000e+03+0.00000000e+00j]\n",
      " [-5.52596477e+03-3.06146228e+05j -4.01709610e+05+3.93540317e+05j\n",
      "  -2.76931407e+05+1.45656959e+04j ...  3.60877487e+03-1.36762392e+03j\n",
      "   3.89960963e+03-3.21703260e+03j  3.78384295e+03-4.14851658e+03j]\n",
      " [-1.11737220e+05-4.23162773e+04j -6.81357047e+04-3.44916274e+04j\n",
      "   1.69600992e+05-1.09764553e+05j ...  1.15849682e+03+7.93364111e+02j\n",
      "   2.61915007e+03+1.51140301e+03j  2.27175960e+03-9.88017116e+02j]\n",
      " ...\n",
      " [ 2.55210124e+03+9.39146782e+02j  2.48577387e+03-1.21828045e+03j\n",
      "  -1.50502752e+03+1.95018124e+02j ...  4.08619493e+02-2.46166760e+02j\n",
      "  -1.02360053e+02+2.99442792e+01j  5.91461623e+02-8.39984248e+01j]\n",
      " [ 2.20538932e+03+3.18004749e+02j  1.53543773e+03-1.00182536e+03j\n",
      "   9.76256270e+00+6.71429793e+02j ... -7.20825471e+02+1.14824007e+03j\n",
      "   6.27299657e+02-3.51437932e+01j -4.96548308e+02-4.13337438e+02j]\n",
      " [ 2.29700000e+03+0.00000000e+00j  1.16782672e+03-2.58880156e+02j\n",
      "  -8.75650529e+01+1.78024995e+03j ...  3.68850152e+01-1.06022265e+02j\n",
      "  -8.73029382e+02+7.96681513e+02j  9.71000000e+02+0.00000000e+00j]]\n"
     ]
    }
   ],
   "source": [
    "#np.fft.fft2 -> Compute the one-dimensional discrete Fourier Transform for real input\n",
    "print(\"In-built: \", np.fft.fft2(imgLena))\n",
    "#User defined FFT function\n",
    "print(\"User-defined: \", FFT_2D(imgLena))"
   ]
  },
  {
   "cell_type": "markdown",
   "metadata": {},
   "source": [
    "Swap Phase and Magnitude"
   ]
  },
  {
   "cell_type": "code",
   "execution_count": 38,
   "metadata": {},
   "outputs": [],
   "source": [
    "def swapMagPhase(img1, img2):\n",
    "    result = np.multiply(np.abs(img1), np.exp(1j*np.angle(img2)))\n",
    "    return result"
   ]
  },
  {
   "cell_type": "code",
   "execution_count": null,
   "metadata": {},
   "outputs": [],
   "source": [
    "FFTLena = FFT_2D(imgLena)\n",
    "FFTDog = FFT_2D(imgDog)"
   ]
  },
  {
   "cell_type": "code",
   "execution_count": 40,
   "metadata": {},
   "outputs": [],
   "source": [
    "Phase_Lena_Mag_Dog = swapMagPhase(FFTLena, FFTDog)\n",
    "Phase_Dog_Mag_Lena = swapMagPhase(FFTDog, FFTLena)"
   ]
  },
  {
   "cell_type": "code",
   "execution_count": 44,
   "metadata": {},
   "outputs": [],
   "source": [
    "pLmD = IFFT_2D(Phase_Lena_Mag_Dog)\n",
    "pDmL = IFFT_2D(Phase_Dog_Mag_Lena)"
   ]
  },
  {
   "cell_type": "code",
   "execution_count": 53,
   "metadata": {},
   "outputs": [
    {
     "data": {
      "text/plain": [
       "<matplotlib.image.AxesImage at 0x2e7611975b0>"
      ]
     },
     "execution_count": 53,
     "metadata": {},
     "output_type": "execute_result"
    },
    {
     "data": {
      "image/png": "[encoded data removed]",
      "text/plain": [
       "<Figure size 432x288 with 1 Axes>"
      ]
     },
     "metadata": {
      "needs_background": "light"
     },
     "output_type": "display_data"
    }
   ],
   "source": [
    "img1 = np.abs(pLmD)\n",
    "plt.imshow(img1)"
   ]
  },
  {
   "cell_type": "code",
   "execution_count": 52,
   "metadata": {},
   "outputs": [
    {
     "data": {
      "text/plain": [
       "<matplotlib.image.AxesImage at 0x2e760477880>"
      ]
     },
     "execution_count": 52,
     "metadata": {},
     "output_type": "execute_result"
    },
    {
     "data": {
      "image/png": "[encoded data removed]",
      "text/plain": [
       "<Figure size 432x288 with 1 Axes>"
      ]
     },
     "metadata": {
      "needs_background": "light"
     },
     "output_type": "display_data"
    }
   ],
   "source": [
    "img2 = np.abs(pDmL)\n",
    "plt.imshow(img2)"
   ]
  },
  {
   "cell_type": "code",
   "execution_count": null,
   "metadata": {},
   "outputs": [],
   "source": []
  }
 ],
 "metadata": {
  "interpreter": {
   "hash": "90f813e45ffbc6032975d51568b4e3652c90798aae0741a6c44bb16ed2e63418"
  },
  "kernelspec": {
   "display_name": "Python 3.9.1 64-bit",
   "language": "python",
   "name": "python3"
  },
  "language_info": {
   "codemirror_mode": {
    "name": "ipython",
    "version": 3
   },
   "file_extension": ".py",
   "mimetype": "text/x-python",
   "name": "python",
   "nbconvert_exporter": "python",
   "pygments_lexer": "ipython3",
   "version": "3.9.1"
  },
  "orig_nbformat": 4
 },
 "nbformat": 4,
 "nbformat_minor": 2
}
